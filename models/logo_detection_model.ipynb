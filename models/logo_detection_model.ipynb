{
 "cells": [
  {
   "cell_type": "markdown",
   "metadata": {},
   "source": [
    "# Logo detection model "
   ]
  },
  {
   "cell_type": "code",
   "execution_count": 1,
   "metadata": {},
   "outputs": [],
   "source": [
    "import pandas as pd\n",
    "import numpy as np\n",
    "\n",
    "import os\n",
    "import cv2\n",
    "from PIL import Image\n",
    "import urllib.request\n",
    "\n",
    "import tqdm\n",
    "import warnings\n",
    "warnings.filterwarnings('ignore')\n",
    "import random\n",
    "import re\n",
    "\n",
    "from matplotlib import pyplot as plt\n",
    "\n",
    "from tensorflow.keras.models import Sequential\n",
    "from tensorflow.keras.optimizers import SGD\n",
    "from tensorflow.keras.layers import Dense, Activation, BatchNormalization, Dropout, Flatten\n",
    "from tensorflow.keras.layers import Conv2D, MaxPooling2D, GlobalAveragePooling2D\n",
    "from tensorflow.keras.preprocessing.image import ImageDataGenerator, array_to_img, img_to_array, load_img\n",
    "from tensorflow.keras.models import Model\n",
    "from tensorflow.keras.applications.inception_v3 import InceptionV3\n",
    "from tensorflow.keras.models import model_from_json\n",
    "from sklearn.model_selection import train_test_split\n",
    "from sklearn.metrics import classification_report\n",
    "import tensorflow.keras.utils\n",
    "\n",
    "from sqlalchemy import create_engine, exc\n"
   ]
  },
  {
   "cell_type": "markdown",
   "metadata": {},
   "source": [
    "Unzip and put all the data in one flat folder"
   ]
  },
  {
   "cell_type": "code",
   "execution_count": null,
   "metadata": {},
   "outputs": [],
   "source": [
    "!unzip FlickrLogos32v2"
   ]
  },
  {
   "cell_type": "code",
   "execution_count": null,
   "metadata": {},
   "outputs": [],
   "source": [
    "!python copy_images_to_flat_dir.py"
   ]
  },
  {
   "cell_type": "code",
   "execution_count": 2,
   "metadata": {},
   "outputs": [
    {
     "data": {
      "text/plain": [
       "12951"
      ]
     },
     "execution_count": 2,
     "metadata": {},
     "output_type": "execute_result"
    }
   ],
   "source": [
    "PATH = \"./FlickrLogos-v2/flat/jpg/\"\n",
    "len(os.listdir(PATH))"
   ]
  },
  {
   "cell_type": "code",
   "execution_count": 3,
   "metadata": {},
   "outputs": [
    {
     "data": {
      "text/html": [
       "<div>\n",
       "<style scoped>\n",
       "    .dataframe tbody tr th:only-of-type {\n",
       "        vertical-align: middle;\n",
       "    }\n",
       "\n",
       "    .dataframe tbody tr th {\n",
       "        vertical-align: top;\n",
       "    }\n",
       "\n",
       "    .dataframe thead th {\n",
       "        text-align: right;\n",
       "    }\n",
       "</style>\n",
       "<table border=\"1\" class=\"dataframe\">\n",
       "  <thead>\n",
       "    <tr style=\"text-align: right;\">\n",
       "      <th></th>\n",
       "      <th>logo</th>\n",
       "      <th>jpg</th>\n",
       "    </tr>\n",
       "  </thead>\n",
       "  <tbody>\n",
       "    <tr>\n",
       "      <th>0</th>\n",
       "      <td>google</td>\n",
       "      <td>462663740.jpg</td>\n",
       "    </tr>\n",
       "    <tr>\n",
       "      <th>1</th>\n",
       "      <td>google</td>\n",
       "      <td>2555224827.jpg</td>\n",
       "    </tr>\n",
       "    <tr>\n",
       "      <th>2</th>\n",
       "      <td>google</td>\n",
       "      <td>2969981253.jpg</td>\n",
       "    </tr>\n",
       "    <tr>\n",
       "      <th>3</th>\n",
       "      <td>google</td>\n",
       "      <td>5182026221.jpg</td>\n",
       "    </tr>\n",
       "    <tr>\n",
       "      <th>4</th>\n",
       "      <td>google</td>\n",
       "      <td>2297499608.jpg</td>\n",
       "    </tr>\n",
       "    <tr>\n",
       "      <th>...</th>\n",
       "      <td>...</td>\n",
       "      <td>...</td>\n",
       "    </tr>\n",
       "    <tr>\n",
       "      <th>8235</th>\n",
       "      <td>no-logo</td>\n",
       "      <td>4595735316.jpg</td>\n",
       "    </tr>\n",
       "    <tr>\n",
       "      <th>8236</th>\n",
       "      <td>no-logo</td>\n",
       "      <td>4649353862.jpg</td>\n",
       "    </tr>\n",
       "    <tr>\n",
       "      <th>8237</th>\n",
       "      <td>no-logo</td>\n",
       "      <td>3060617157.jpg</td>\n",
       "    </tr>\n",
       "    <tr>\n",
       "      <th>8238</th>\n",
       "      <td>no-logo</td>\n",
       "      <td>652497606.jpg</td>\n",
       "    </tr>\n",
       "    <tr>\n",
       "      <th>8239</th>\n",
       "      <td>no-logo</td>\n",
       "      <td>3668548493.jpg</td>\n",
       "    </tr>\n",
       "  </tbody>\n",
       "</table>\n",
       "<p>8240 rows × 2 columns</p>\n",
       "</div>"
      ],
      "text/plain": [
       "         logo             jpg\n",
       "0      google   462663740.jpg\n",
       "1      google  2555224827.jpg\n",
       "2      google  2969981253.jpg\n",
       "3      google  5182026221.jpg\n",
       "4      google  2297499608.jpg\n",
       "...       ...             ...\n",
       "8235  no-logo  4595735316.jpg\n",
       "8236  no-logo  4649353862.jpg\n",
       "8237  no-logo  3060617157.jpg\n",
       "8238  no-logo   652497606.jpg\n",
       "8239  no-logo  3668548493.jpg\n",
       "\n",
       "[8240 rows x 2 columns]"
      ]
     },
     "execution_count": 3,
     "metadata": {},
     "output_type": "execute_result"
    }
   ],
   "source": [
    "df = pd.read_csv('./FlickrLogos-v2/all.txt', delimiter = \",\", names= ['logo', 'jpg'])\n",
    "df"
   ]
  },
  {
   "cell_type": "markdown",
   "metadata": {},
   "source": [
    "### Selecting beer logos"
   ]
  },
  {
   "cell_type": "code",
   "execution_count": 4,
   "metadata": {},
   "outputs": [],
   "source": [
    "df = pd.read_csv('./FlickrLogos-v2/all.txt', delimiter = \",\", names= ['logo', 'jpg'])\n",
    "df_beer = df[(df.logo =='paulaner') |\n",
    "             (df.logo =='guiness') | \n",
    "             (df.logo =='singha') |\n",
    "             (df.logo =='fosters')| \n",
    "             (df.logo =='heineken')|\n",
    "             (df.logo =='erdinger')|\n",
    "             (df.logo =='carlsberg')|\n",
    "             (df.logo =='becks')|\n",
    "             (df.logo =='stellaartois')|\n",
    "             (df.logo =='corona')|             \n",
    "             (df.logo =='no-logo')]"
   ]
  },
  {
   "cell_type": "code",
   "execution_count": 5,
   "metadata": {},
   "outputs": [
    {
     "data": {
      "text/plain": [
       "no-logo         6000\n",
       "erdinger          70\n",
       "heineken          70\n",
       "stellaartois      70\n",
       "singha            70\n",
       "paulaner          70\n",
       "corona            70\n",
       "guiness           70\n",
       "carlsberg         70\n",
       "becks             70\n",
       "fosters           70\n",
       "Name: logo, dtype: int64"
      ]
     },
     "execution_count": 5,
     "metadata": {},
     "output_type": "execute_result"
    }
   ],
   "source": [
    "df_beer.logo.value_counts()"
   ]
  },
  {
   "cell_type": "markdown",
   "metadata": {},
   "source": [
    "We have class imbalance problem becaue of 6000 no-logo images. We will use image ImageDataGenerator to genarate more images from beer logos"
   ]
  },
  {
   "cell_type": "code",
   "execution_count": null,
   "metadata": {},
   "outputs": [],
   "source": [
    "all_beers = df_beer.logo.unique()\n",
    "datagen = ImageDataGenerator(\n",
    "        rescale=1./255,\n",
    "        rotation_range=40,\n",
    "        width_shift_range=0.2,\n",
    "        height_shift_range=0.2,\n",
    "        shear_range=0.2,\n",
    "        zoom_range=0.2,\n",
    "        fill_mode='nearest'        \n",
    "       )\n",
    "for logo in tqdm.tqdm(all_beers):\n",
    "    df_logo = df[df.logo == logo]\n",
    "    X = np.array([load_reshape_img(PATH + image) for image in df_logo.jpg])\n",
    "    X = X.reshape(X.shape[0], 224, 224, 3)    \n",
    "    i = 0\n",
    "    for batch in datagen.flow(X, batch_size=70,\n",
    "                              save_to_dir=\"augmented_images\", \n",
    "                              save_prefix=logo, \n",
    "                              save_format='jpeg'):        \n",
    "        i += 1\n",
    "        if i > 5:\n",
    "            break\n"
   ]
  },
  {
   "cell_type": "code",
   "execution_count": null,
   "metadata": {},
   "outputs": [],
   "source": [
    "!cp /storage/logo_detection/augmented_images/* ./FlickrLogos-v2/flat/jpg/   # copying augmented images to the main data folder"
   ]
  },
  {
   "cell_type": "code",
   "execution_count": 37,
   "metadata": {},
   "outputs": [],
   "source": [
    "def no_number(logo):\n",
    "    label = re.findall('[a-z]+', logo)[0]\n",
    "    return label\n",
    "aug_img = os.listdir(\"augmented_images\")\n",
    "df_aug = pd.DataFrame()\n",
    "df_aug['jpg'] = aug_img\n",
    "df_aug['logo'] = df_aug['jpg'].apply(no_number)\n",
    "df_beer = pd.concat([df_aug, df_beer])"
   ]
  },
  {
   "cell_type": "markdown",
   "metadata": {},
   "source": [
    "Choosing only 7 brands to increase the accuracy"
   ]
  },
  {
   "cell_type": "code",
   "execution_count": 38,
   "metadata": {},
   "outputs": [],
   "source": [
    "df_beer = df_beer[(df_beer.logo =='paulaner') |\n",
    "                  (df_beer.logo =='guiness') | \n",
    "                  (df_beer.logo =='fosters')| \n",
    "                  (df_beer.logo =='heineken')|\n",
    "                  (df_beer.logo =='carlsberg')|\n",
    "                  (df_beer.logo =='becks')|\n",
    "                  (df_beer.logo =='corona')|             \n",
    "                  (df_beer.logo =='no-logo')]"
   ]
  },
  {
   "cell_type": "code",
   "execution_count": 39,
   "metadata": {},
   "outputs": [
    {
     "data": {
      "text/plain": [
       "no-logo      6000\n",
       "paulaner      490\n",
       "corona        490\n",
       "fosters       490\n",
       "guiness       490\n",
       "carlsberg     490\n",
       "heineken      490\n",
       "becks         490\n",
       "Name: logo, dtype: int64"
      ]
     },
     "execution_count": 39,
     "metadata": {},
     "output_type": "execute_result"
    }
   ],
   "source": [
    "df_beer.logo.value_counts()"
   ]
  },
  {
   "cell_type": "markdown",
   "metadata": {},
   "source": [
    "### Inception-V3 Model"
   ]
  },
  {
   "cell_type": "markdown",
   "metadata": {},
   "source": [
    "Load and reshape the images:"
   ]
  },
  {
   "cell_type": "code",
   "execution_count": 10,
   "metadata": {},
   "outputs": [],
   "source": [
    "def load_reshape_img(image):\n",
    "    img = load_img(image, target_size=(224, 224))\n",
    "    x = img_to_array(img)/255.\n",
    "    x = x.reshape((1,) + x.shape)\n",
    "    return x\n"
   ]
  },
  {
   "cell_type": "code",
   "execution_count": 17,
   "metadata": {},
   "outputs": [
    {
     "name": "stderr",
     "output_type": "stream",
     "text": [
      "100%|██████████| 9430/9430 [03:14<00:00, 48.37it/s] \n"
     ]
    }
   ],
   "source": [
    "X = np.array([load_reshape_img(PATH + image) for image in tqdm.tqdm(df_beer.jpg)])\n",
    "X = X.reshape(X.shape[0], 224, 224, 3)"
   ]
  },
  {
   "cell_type": "markdown",
   "metadata": {},
   "source": [
    "Hot encoding the labels:"
   ]
  },
  {
   "cell_type": "code",
   "execution_count": 15,
   "metadata": {},
   "outputs": [],
   "source": [
    "keys = df_beer.logo.unique()\n",
    "values = [i for i in range(0,len(keys))]\n",
    "logo_dict = dict(zip(keys,values))\n",
    "df_beer.logo.replace(logo_dict, inplace=True)\n",
    "y = tensorflow.keras.utils.to_categorical(df_beer.logo, num_classes=8, dtype='float32')"
   ]
  },
  {
   "cell_type": "markdown",
   "metadata": {},
   "source": [
    "Train and test split:"
   ]
  },
  {
   "cell_type": "code",
   "execution_count": 19,
   "metadata": {},
   "outputs": [],
   "source": [
    "Xtrain, Xtest, ytrain, ytest = train_test_split(X, y, random_state=42)"
   ]
  },
  {
   "cell_type": "markdown",
   "metadata": {},
   "source": [
    "Training the model:"
   ]
  },
  {
   "cell_type": "code",
   "execution_count": 25,
   "metadata": {},
   "outputs": [],
   "source": [
    "model_v3 = InceptionV3(weights='imagenet', include_top=False, classes = 8, input_shape = (224, 224, 3))\n",
    "new_layers = model_v3.output\n",
    "\n",
    "new_layers = GlobalAveragePooling2D()(new_layers)\n",
    "\n",
    "new_layers = Dense(1024, activation='relu')(new_layers)\n",
    "new_layers = Dropout(0.5)(new_layers)\n",
    "new_layers = BatchNormalization()(new_layers)\n",
    "\n",
    "new_layers = Dense(8, activation='softmax')(new_layers)\n",
    "model_v3 = Model(inputs=model_v3.inputs, outputs=new_layers)\n",
    "\n",
    "# Freezing the first 51 layers\n",
    "for layer in model_v3.layers[:52]:\n",
    "    layer.trainable = False\n"
   ]
  },
  {
   "cell_type": "code",
   "execution_count": 26,
   "metadata": {},
   "outputs": [
    {
     "name": "stdout",
     "output_type": "stream",
     "text": [
      "Train on 5657 samples, validate on 1415 samples\n",
      "Epoch 1/20\n",
      "5657/5657 [==============================] - 65s 12ms/sample - loss: 1.2101 - accuracy: 0.6261 - val_loss: 0.3644 - val_accuracy: 0.8876\n",
      "Epoch 2/20\n",
      "5657/5657 [==============================] - 49s 9ms/sample - loss: 0.6410 - accuracy: 0.8153 - val_loss: 0.2198 - val_accuracy: 0.9378\n",
      "Epoch 3/20\n",
      "5657/5657 [==============================] - 49s 9ms/sample - loss: 0.4553 - accuracy: 0.8724 - val_loss: 0.1631 - val_accuracy: 0.9512\n",
      "Epoch 4/20\n",
      "5657/5657 [==============================] - 48s 9ms/sample - loss: 0.3186 - accuracy: 0.9072 - val_loss: 0.1299 - val_accuracy: 0.9618\n",
      "Epoch 5/20\n",
      "5657/5657 [==============================] - 49s 9ms/sample - loss: 0.2669 - accuracy: 0.9284 - val_loss: 0.1054 - val_accuracy: 0.9668\n",
      "Epoch 6/20\n",
      "5657/5657 [==============================] - 49s 9ms/sample - loss: 0.2404 - accuracy: 0.9406 - val_loss: 0.0895 - val_accuracy: 0.9739\n",
      "Epoch 7/20\n",
      "5657/5657 [==============================] - 49s 9ms/sample - loss: 0.1896 - accuracy: 0.9487 - val_loss: 0.0857 - val_accuracy: 0.9724\n",
      "Epoch 8/20\n",
      "5657/5657 [==============================] - 49s 9ms/sample - loss: 0.1758 - accuracy: 0.9560 - val_loss: 0.0715 - val_accuracy: 0.9746\n",
      "Epoch 9/20\n",
      "5657/5657 [==============================] - 49s 9ms/sample - loss: 0.1389 - accuracy: 0.9662 - val_loss: 0.0782 - val_accuracy: 0.9774\n",
      "Epoch 10/20\n",
      "5657/5657 [==============================] - 48s 9ms/sample - loss: 0.1111 - accuracy: 0.9721 - val_loss: 0.0730 - val_accuracy: 0.9746\n",
      "Epoch 11/20\n",
      "5657/5657 [==============================] - 48s 9ms/sample - loss: 0.1206 - accuracy: 0.9677 - val_loss: 0.0628 - val_accuracy: 0.9809\n",
      "Epoch 12/20\n",
      "5657/5657 [==============================] - 49s 9ms/sample - loss: 0.0900 - accuracy: 0.9767 - val_loss: 0.0618 - val_accuracy: 0.9802\n",
      "Epoch 13/20\n",
      "5657/5657 [==============================] - 49s 9ms/sample - loss: 0.1056 - accuracy: 0.9728 - val_loss: 0.0586 - val_accuracy: 0.9781\n",
      "Epoch 14/20\n",
      "5657/5657 [==============================] - 48s 9ms/sample - loss: 0.1114 - accuracy: 0.9694 - val_loss: 0.0598 - val_accuracy: 0.9802\n",
      "Epoch 15/20\n",
      "5657/5657 [==============================] - 49s 9ms/sample - loss: 0.0987 - accuracy: 0.9742 - val_loss: 0.0511 - val_accuracy: 0.9816\n",
      "Epoch 16/20\n",
      "5657/5657 [==============================] - 49s 9ms/sample - loss: 0.0863 - accuracy: 0.9791 - val_loss: 0.0508 - val_accuracy: 0.9830\n",
      "Epoch 17/20\n",
      "5657/5657 [==============================] - 49s 9ms/sample - loss: 0.0591 - accuracy: 0.9848 - val_loss: 0.0486 - val_accuracy: 0.9837\n",
      "Epoch 18/20\n",
      "5657/5657 [==============================] - 49s 9ms/sample - loss: 0.0737 - accuracy: 0.9811 - val_loss: 0.0431 - val_accuracy: 0.9852\n",
      "Epoch 19/20\n",
      "5657/5657 [==============================] - 49s 9ms/sample - loss: 0.0648 - accuracy: 0.9836 - val_loss: 0.0478 - val_accuracy: 0.9852\n",
      "Epoch 20/20\n",
      "5657/5657 [==============================] - 48s 9ms/sample - loss: 0.0627 - accuracy: 0.9820 - val_loss: 0.0552 - val_accuracy: 0.9845\n"
     ]
    }
   ],
   "source": [
    "model_v3.compile(optimizer=SGD(lr=0.0001, momentum=0.9), loss='categorical_crossentropy', metrics=['accuracy']) #Stochastic gradient descent optimizer.\n",
    "results = model_v3.fit(Xtrain, ytrain, epochs=20, batch_size=8, validation_split=0.2)"
   ]
  },
  {
   "cell_type": "markdown",
   "metadata": {},
   "source": [
    "Saving the model and the weights:"
   ]
  },
  {
   "cell_type": "code",
   "execution_count": 10,
   "metadata": {},
   "outputs": [
    {
     "name": "stdout",
     "output_type": "stream",
     "text": [
      "Saved model to disk\n"
     ]
    }
   ],
   "source": [
    "def save_model(model):\n",
    "    # serialize model to JSON\n",
    "    with open(f\"{model}.json\", \"w\") as json_file:\n",
    "        json_file.write(model_v3.to_json())\n",
    "\n",
    "    # serialize weights to HDF5\n",
    "    model_v3.save_weights(f\"{model}.h5\")\n",
    "    print(\"Saved model to disk\")\n",
    "save_model('beer_logo_v3_aug_all')    "
   ]
  },
  {
   "cell_type": "code",
   "execution_count": 10,
   "metadata": {},
   "outputs": [],
   "source": [
    "def load_logo_model():\n",
    "    \"\"\"\n",
    "    load the saved trained logo detection model\n",
    "    \"\"\"\n",
    "    # logging.critical(\"Loading logo detection model...\")\n",
    "    json_file = open('beer_logo_v3_aug_all.json', 'r')\n",
    "    loaded_model_json = json_file.read()\n",
    "    json_file.close()\n",
    "    loaded_model = model_from_json(loaded_model_json)\n",
    "    # load weights into new model\n",
    "    loaded_model.load_weights(\"beer_logo_v3_aug_all.h5\")\n",
    "    # logging.critical(\"Model is ready.\")\n",
    "    return loaded_model\n",
    "model_v3 = load_logo_model()"
   ]
  },
  {
   "cell_type": "markdown",
   "metadata": {},
   "source": [
    "Classification report on the test data:"
   ]
  },
  {
   "cell_type": "code",
   "execution_count": 9,
   "metadata": {},
   "outputs": [
    {
     "name": "stdout",
     "output_type": "stream",
     "text": [
      "              precision    recall  f1-score   support\n",
      "\n",
      "     fosters       0.99      0.93      0.96       142\n",
      "   carlsberg       0.97      0.97      0.97       117\n",
      "       becks       1.00      1.00      1.00       122\n",
      "     guiness       0.98      0.96      0.97       131\n",
      "      corona       0.99      0.94      0.96       111\n",
      "    heineken       0.99      0.97      0.98       110\n",
      "    paulaner       0.99      0.97      0.98       120\n",
      "     no-logo       0.99      1.00      0.99      1505\n",
      "\n",
      "    accuracy                           0.99      2358\n",
      "   macro avg       0.99      0.97      0.98      2358\n",
      "weighted avg       0.99      0.99      0.99      2358\n",
      "\n"
     ]
    }
   ],
   "source": [
    "y_pred = model_v3.predict(Xtest, batch_size=64, verbose=0)\n",
    "y_pred_bool = np.argmax(y_pred, axis=1)\n",
    "ytest_bool = np.argmax(ytest, axis=1)\n",
    "print(classification_report(ytest_bool, y_pred_bool, target_names=logo_dict.keys()))"
   ]
  },
  {
   "cell_type": "markdown",
   "metadata": {},
   "source": [
    "### Adding Hop House 13 logo to the model"
   ]
  },
  {
   "cell_type": "code",
   "execution_count": 24,
   "metadata": {},
   "outputs": [],
   "source": [
    "datagen = ImageDataGenerator(    \n",
    "        rescale=1./255,\n",
    "        rotation_range=40,\n",
    "        width_shift_range=0.2,\n",
    "        height_shift_range=0.2,\n",
    "        shear_range=0.2,\n",
    "        zoom_range=0.2,\n",
    "        fill_mode='nearest'        \n",
    "       )\n"
   ]
  },
  {
   "cell_type": "code",
   "execution_count": 40,
   "metadata": {},
   "outputs": [],
   "source": [
    "def no_number(logo):\n",
    "    label = re.findall('[a-z]+', logo)[:2]\n",
    "    label = '-'.join(label)\n",
    "    return label\n",
    "def make_dataframe(path):\n",
    "    new_logos = os.listdir(path)\n",
    "    new_logos.remove('.ipynb_checkpoints')\n",
    "    df_new_logo = pd.DataFrame()\n",
    "    df_new_logo['jpg'] = new_logos\n",
    "    df_new_logo['logo'] = df_new_logo['jpg'].apply(no_number)\n",
    "    return df_new_logo\n",
    "df_new_logo = make_dataframe(\"new_logos\")\n"
   ]
  },
  {
   "cell_type": "code",
   "execution_count": 52,
   "metadata": {},
   "outputs": [
    {
     "name": "stderr",
     "output_type": "stream",
     "text": [
      "100%|██████████| 2/2 [00:08<00:00,  4.49s/it]\n"
     ]
    }
   ],
   "source": [
    "new_logos = ['hop-house']\n",
    "for logo in tqdm.tqdm(new_logos):\n",
    "    X = np.array([load_reshape_img('new_logos/' + image) for image in df_new_logo.jpg])\n",
    "    X = X.reshape(X.shape[0], 224, 224, 3)    \n",
    "    i = 0\n",
    "    for batch in datagen.flow(X, batch_size=70,\n",
    "                              save_to_dir=\"new_logos\", \n",
    "                              save_prefix=logo, \n",
    "                              save_format='jpeg'):        \n",
    "        i += 1\n",
    "        if i > 5:\n",
    "            break"
   ]
  },
  {
   "cell_type": "code",
   "execution_count": 53,
   "metadata": {},
   "outputs": [],
   "source": [
    "!cp /storage/logo_detection/new_logos/* ./FlickrLogos-v2/flat/jpg/   # copying augmented images to the main data folder"
   ]
  },
  {
   "cell_type": "code",
   "execution_count": 43,
   "metadata": {},
   "outputs": [
    {
     "data": {
      "text/plain": [
       "no-logo      6000\n",
       "paulaner      490\n",
       "corona        490\n",
       "fosters       490\n",
       "guiness       490\n",
       "carlsberg     490\n",
       "heineken      490\n",
       "becks         490\n",
       "hop-house     243\n",
       "Name: logo, dtype: int64"
      ]
     },
     "execution_count": 43,
     "metadata": {},
     "output_type": "execute_result"
    }
   ],
   "source": [
    "df_new_logo = make_dataframe('new_logos')\n",
    "df_beer = pd.concat([df_new_logo, df_beer])\n",
    "df_beer.logo.value_counts()"
   ]
  },
  {
   "cell_type": "code",
   "execution_count": 44,
   "metadata": {},
   "outputs": [
    {
     "data": {
      "text/html": [
       "<div>\n",
       "<style scoped>\n",
       "    .dataframe tbody tr th:only-of-type {\n",
       "        vertical-align: middle;\n",
       "    }\n",
       "\n",
       "    .dataframe tbody tr th {\n",
       "        vertical-align: top;\n",
       "    }\n",
       "\n",
       "    .dataframe thead th {\n",
       "        text-align: right;\n",
       "    }\n",
       "</style>\n",
       "<table border=\"1\" class=\"dataframe\">\n",
       "  <thead>\n",
       "    <tr style=\"text-align: right;\">\n",
       "      <th></th>\n",
       "      <th>jpg</th>\n",
       "      <th>logo</th>\n",
       "    </tr>\n",
       "  </thead>\n",
       "  <tbody>\n",
       "    <tr>\n",
       "      <th>0</th>\n",
       "      <td>hop-house (21).jpg</td>\n",
       "      <td>hop-house</td>\n",
       "    </tr>\n",
       "    <tr>\n",
       "      <th>1</th>\n",
       "      <td>hop-house_34_3916.jpeg</td>\n",
       "      <td>hop-house</td>\n",
       "    </tr>\n",
       "    <tr>\n",
       "      <th>2</th>\n",
       "      <td>hop-house_16_6480.jpeg</td>\n",
       "      <td>hop-house</td>\n",
       "    </tr>\n",
       "    <tr>\n",
       "      <th>3</th>\n",
       "      <td>hop-house_32_2514.jpeg</td>\n",
       "      <td>hop-house</td>\n",
       "    </tr>\n",
       "    <tr>\n",
       "      <th>4</th>\n",
       "      <td>hop-house_4_81.jpeg</td>\n",
       "      <td>hop-house</td>\n",
       "    </tr>\n",
       "    <tr>\n",
       "      <th>...</th>\n",
       "      <td>...</td>\n",
       "      <td>...</td>\n",
       "    </tr>\n",
       "    <tr>\n",
       "      <th>8235</th>\n",
       "      <td>4595735316.jpg</td>\n",
       "      <td>no-logo</td>\n",
       "    </tr>\n",
       "    <tr>\n",
       "      <th>8236</th>\n",
       "      <td>4649353862.jpg</td>\n",
       "      <td>no-logo</td>\n",
       "    </tr>\n",
       "    <tr>\n",
       "      <th>8237</th>\n",
       "      <td>3060617157.jpg</td>\n",
       "      <td>no-logo</td>\n",
       "    </tr>\n",
       "    <tr>\n",
       "      <th>8238</th>\n",
       "      <td>652497606.jpg</td>\n",
       "      <td>no-logo</td>\n",
       "    </tr>\n",
       "    <tr>\n",
       "      <th>8239</th>\n",
       "      <td>3668548493.jpg</td>\n",
       "      <td>no-logo</td>\n",
       "    </tr>\n",
       "  </tbody>\n",
       "</table>\n",
       "<p>9673 rows × 2 columns</p>\n",
       "</div>"
      ],
      "text/plain": [
       "                         jpg       logo\n",
       "0         hop-house (21).jpg  hop-house\n",
       "1     hop-house_34_3916.jpeg  hop-house\n",
       "2     hop-house_16_6480.jpeg  hop-house\n",
       "3     hop-house_32_2514.jpeg  hop-house\n",
       "4        hop-house_4_81.jpeg  hop-house\n",
       "...                      ...        ...\n",
       "8235          4595735316.jpg    no-logo\n",
       "8236          4649353862.jpg    no-logo\n",
       "8237          3060617157.jpg    no-logo\n",
       "8238           652497606.jpg    no-logo\n",
       "8239          3668548493.jpg    no-logo\n",
       "\n",
       "[9673 rows x 2 columns]"
      ]
     },
     "execution_count": 44,
     "metadata": {},
     "output_type": "execute_result"
    }
   ],
   "source": [
    "df_beer"
   ]
  },
  {
   "cell_type": "code",
   "execution_count": 45,
   "metadata": {},
   "outputs": [],
   "source": [
    "df_beer.to_csv('df_beer.csv', index=False)"
   ]
  },
  {
   "cell_type": "markdown",
   "metadata": {},
   "source": [
    "Re-train the model with the new logos:"
   ]
  },
  {
   "cell_type": "code",
   "execution_count": 14,
   "metadata": {},
   "outputs": [
    {
     "name": "stderr",
     "output_type": "stream",
     "text": [
      "100%|██████████| 9673/9673 [02:32<00:00, 63.44it/s] \n"
     ]
    }
   ],
   "source": [
    "X = np.array([load_reshape_img(PATH + image) for image in tqdm.tqdm(df_beer.jpg)])\n",
    "X = X.reshape(X.shape[0], 224, 224, 3)"
   ]
  },
  {
   "cell_type": "code",
   "execution_count": 15,
   "metadata": {},
   "outputs": [],
   "source": [
    "keys = df_beer.logo.unique()\n",
    "values = [i for i in range(0,len(keys))]\n",
    "logo_dict = dict(zip(keys,values))\n",
    "df_beer.logo.replace(logo_dict, inplace=True)\n",
    "y = tensorflow.keras.utils.to_categorical(df_beer.logo, num_classes=9, dtype='float32')"
   ]
  },
  {
   "cell_type": "code",
   "execution_count": 16,
   "metadata": {},
   "outputs": [],
   "source": [
    "model_v3 = InceptionV3(weights='imagenet', include_top=False, classes = 9, input_shape = (224, 224, 3))\n",
    "new_layers = model_v3.output\n",
    "\n",
    "new_layers = GlobalAveragePooling2D()(new_layers)\n",
    "\n",
    "new_layers = Dense(1024, activation='relu')(new_layers)\n",
    "new_layers = Dropout(0.5)(new_layers)\n",
    "new_layers = BatchNormalization()(new_layers)\n",
    "\n",
    "new_layers = Dense(9, activation='softmax')(new_layers)\n",
    "model_v3 = Model(inputs=model_v3.inputs, outputs=new_layers)"
   ]
  },
  {
   "cell_type": "code",
   "execution_count": 17,
   "metadata": {},
   "outputs": [],
   "source": [
    "# Freezing the first 51 layers\n",
    "for layer in model_v3.layers[:52]:\n",
    "    layer.trainable = False\n"
   ]
  },
  {
   "cell_type": "code",
   "execution_count": 19,
   "metadata": {},
   "outputs": [
    {
     "name": "stdout",
     "output_type": "stream",
     "text": [
      "Train on 7738 samples, validate on 1935 samples\n",
      "Epoch 1/20\n",
      "7738/7738 [==============================] - 92s 12ms/sample - loss: 1.1389 - accuracy: 0.6352 - val_loss: 0.0239 - val_accuracy: 0.9979\n",
      "Epoch 2/20\n",
      "7738/7738 [==============================] - 74s 10ms/sample - loss: 0.4714 - accuracy: 0.8582 - val_loss: 0.0147 - val_accuracy: 0.9984\n",
      "Epoch 3/20\n",
      "7738/7738 [==============================] - 74s 10ms/sample - loss: 0.3320 - accuracy: 0.9066 - val_loss: 0.0187 - val_accuracy: 0.9964\n",
      "Epoch 4/20\n",
      "7738/7738 [==============================] - 74s 10ms/sample - loss: 0.2418 - accuracy: 0.9343 - val_loss: 0.0166 - val_accuracy: 0.9979\n",
      "Epoch 5/20\n",
      "7738/7738 [==============================] - 74s 10ms/sample - loss: 0.1800 - accuracy: 0.9484 - val_loss: 0.0131 - val_accuracy: 0.9979\n",
      "Epoch 6/20\n",
      "7738/7738 [==============================] - 75s 10ms/sample - loss: 0.1359 - accuracy: 0.9636 - val_loss: 0.0141 - val_accuracy: 0.9964\n",
      "Epoch 7/20\n",
      "7738/7738 [==============================] - 74s 10ms/sample - loss: 0.1246 - accuracy: 0.9669 - val_loss: 0.0090 - val_accuracy: 0.9974\n",
      "Epoch 8/20\n",
      "7738/7738 [==============================] - 74s 10ms/sample - loss: 0.1059 - accuracy: 0.9721 - val_loss: 0.0100 - val_accuracy: 0.9969\n",
      "Epoch 9/20\n",
      "7738/7738 [==============================] - 74s 10ms/sample - loss: 0.1007 - accuracy: 0.9740 - val_loss: 0.0166 - val_accuracy: 0.9953\n",
      "Epoch 10/20\n",
      "7738/7738 [==============================] - 74s 10ms/sample - loss: 0.0747 - accuracy: 0.9800 - val_loss: 0.0113 - val_accuracy: 0.9964\n",
      "Epoch 11/20\n",
      "7738/7738 [==============================] - 74s 10ms/sample - loss: 0.0832 - accuracy: 0.9802 - val_loss: 0.0141 - val_accuracy: 0.9959\n",
      "Epoch 12/20\n",
      "7738/7738 [==============================] - 74s 10ms/sample - loss: 0.0800 - accuracy: 0.9807 - val_loss: 0.0134 - val_accuracy: 0.9953\n",
      "Epoch 13/20\n",
      "7738/7738 [==============================] - 74s 10ms/sample - loss: 0.0612 - accuracy: 0.9851 - val_loss: 0.0178 - val_accuracy: 0.9948\n",
      "Epoch 14/20\n",
      "7738/7738 [==============================] - 74s 10ms/sample - loss: 0.0496 - accuracy: 0.9885 - val_loss: 0.0112 - val_accuracy: 0.9959\n",
      "Epoch 15/20\n",
      "7738/7738 [==============================] - 74s 10ms/sample - loss: 0.0471 - accuracy: 0.9882 - val_loss: 0.0119 - val_accuracy: 0.9969\n",
      "Epoch 16/20\n",
      "7738/7738 [==============================] - 74s 10ms/sample - loss: 0.0590 - accuracy: 0.9855 - val_loss: 0.0122 - val_accuracy: 0.9979\n",
      "Epoch 17/20\n",
      "7738/7738 [==============================] - 74s 10ms/sample - loss: 0.0408 - accuracy: 0.9915 - val_loss: 0.0150 - val_accuracy: 0.9969\n",
      "Epoch 18/20\n",
      "7738/7738 [==============================] - 75s 10ms/sample - loss: 0.0402 - accuracy: 0.9925 - val_loss: 0.0153 - val_accuracy: 0.9969\n",
      "Epoch 19/20\n",
      "7738/7738 [==============================] - 74s 10ms/sample - loss: 0.0449 - accuracy: 0.9895 - val_loss: 0.0163 - val_accuracy: 0.9964\n",
      "Epoch 20/20\n",
      "7738/7738 [==============================] - 74s 10ms/sample - loss: 0.0507 - accuracy: 0.9882 - val_loss: 0.0180 - val_accuracy: 0.9964\n"
     ]
    }
   ],
   "source": [
    "model_v3.compile(optimizer=SGD(lr=0.0001, momentum=0.9), loss='categorical_crossentropy', metrics=['accuracy']) #Stochastic gradient descent optimizer.\n",
    "results = model_v3.fit(X, y, epochs=20, batch_size=8, validation_split=0.2)"
   ]
  },
  {
   "cell_type": "code",
   "execution_count": 28,
   "metadata": {},
   "outputs": [
    {
     "name": "stdout",
     "output_type": "stream",
     "text": [
      "Saved model to disk\n"
     ]
    }
   ],
   "source": [
    "save_model('beer_logo 1.0')  "
   ]
  },
  {
   "cell_type": "code",
   "execution_count": null,
   "metadata": {},
   "outputs": [],
   "source": []
  }
 ],
 "metadata": {
  "kernelspec": {
   "display_name": "Python 3",
   "language": "python",
   "name": "python3"
  },
  "language_info": {
   "codemirror_mode": {
    "name": "ipython",
    "version": 3
   },
   "file_extension": ".py",
   "mimetype": "text/x-python",
   "name": "python",
   "nbconvert_exporter": "python",
   "pygments_lexer": "ipython3",
   "version": "3.7.7"
  }
 },
 "nbformat": 4,
 "nbformat_minor": 4
}
